{
 "cells": [
  {
   "cell_type": "code",
   "execution_count": 1,
   "metadata": {},
   "outputs": [
    {
     "name": "stderr",
     "output_type": "stream",
     "text": [
      "2025-03-23 21:02:56.507829: I external/local_xla/xla/tsl/cuda/cudart_stub.cc:32] Could not find cuda drivers on your machine, GPU will not be used.\n",
      "2025-03-23 21:02:56.518890: I external/local_xla/xla/tsl/cuda/cudart_stub.cc:32] Could not find cuda drivers on your machine, GPU will not be used.\n",
      "2025-03-23 21:02:56.546289: E external/local_xla/xla/stream_executor/cuda/cuda_fft.cc:467] Unable to register cuFFT factory: Attempting to register factory for plugin cuFFT when one has already been registered\n",
      "WARNING: All log messages before absl::InitializeLog() is called are written to STDERR\n",
      "E0000 00:00:1742763776.582736  614086 cuda_dnn.cc:8579] Unable to register cuDNN factory: Attempting to register factory for plugin cuDNN when one has already been registered\n",
      "E0000 00:00:1742763776.593223  614086 cuda_blas.cc:1407] Unable to register cuBLAS factory: Attempting to register factory for plugin cuBLAS when one has already been registered\n",
      "W0000 00:00:1742763776.626249  614086 computation_placer.cc:177] computation placer already registered. Please check linkage and avoid linking the same target more than once.\n",
      "W0000 00:00:1742763776.626288  614086 computation_placer.cc:177] computation placer already registered. Please check linkage and avoid linking the same target more than once.\n",
      "W0000 00:00:1742763776.626292  614086 computation_placer.cc:177] computation placer already registered. Please check linkage and avoid linking the same target more than once.\n",
      "W0000 00:00:1742763776.626295  614086 computation_placer.cc:177] computation placer already registered. Please check linkage and avoid linking the same target more than once.\n",
      "2025-03-23 21:02:56.638700: I tensorflow/core/platform/cpu_feature_guard.cc:210] This TensorFlow binary is optimized to use available CPU instructions in performance-critical operations.\n",
      "To enable the following instructions: AVX2 FMA, in other operations, rebuild TensorFlow with the appropriate compiler flags.\n"
     ]
    }
   ],
   "source": [
    "import maze_library\n",
    "import numpy as np\n",
    "import matplotlib.pyplot as plt\n",
    "import tensorflow as tf\n"
   ]
  },
  {
   "cell_type": "code",
   "execution_count": 2,
   "metadata": {},
   "outputs": [],
   "source": [
    "def map_int_to_direction(input):\n",
    "    if input == 0:\n",
    "        return maze_library.Direction.North\n",
    "    if input == 1:\n",
    "        return maze_library.Direction.East\n",
    "    if input == 2:\n",
    "        return maze_library.Direction.South\n",
    "    else:\n",
    "        return maze_library.Direction.West"
   ]
  },
  {
   "cell_type": "code",
   "execution_count": 3,
   "metadata": {},
   "outputs": [],
   "source": [
    "env = maze_library.init_environment_python(10,10)\n",
    "maze_library.create_kruzkals_maze(env)\n",
    "maze_library.make_maze_imperfect(env)"
   ]
  },
  {
   "cell_type": "code",
   "execution_count": 4,
   "metadata": {},
   "outputs": [],
   "source": [
    "def action_result_to_tuple(action_result):\n",
    "    \"\"\"\n",
    "    Converts an ActionResult object into a tuple.\n",
    "\n",
    "    Args:\n",
    "        action_result (ActionResult): The result of an action in the environment.\n",
    "\n",
    "    Returns:\n",
    "        tuple: (observation, reward, done, truncated, info)\n",
    "    \"\"\"\n",
    "    observation = action_result.observation  # The new observation after taking action\n",
    "    reward = action_result.reward  # Reward received\n",
    "    done = action_result.is_done  # Whether the episode is finished\n",
    "    truncated = action_result.is_truncated  # Whether the episode was truncated\n",
    "    info = action_result.info # Additional info\n",
    "\n",
    "    return observation, reward, done, truncated, info\n"
   ]
  },
  {
   "cell_type": "code",
   "execution_count": 5,
   "metadata": {},
   "outputs": [],
   "source": [
    "def action_result_to_input_vector(state, info):\n",
    "    available_paths = state.available_paths\n",
    "    return np.array([\n",
    "        available_paths.get(maze_library.Direction.North, 0),\n",
    "        available_paths.get(maze_library.Direction.East, 0),\n",
    "        available_paths.get(maze_library.Direction.South, 0),\n",
    "        available_paths.get(maze_library.Direction.West, 0),\n",
    "        state.current_location[0] / 10,\n",
    "        state.current_location[1] / 10,\n",
    "        state.end_node[0] / 10,\n",
    "        state.end_node[1] / 10,\n",
    "        info.manhattan_distance / 10,\n",
    "        info.goal_dx/5,\n",
    "        info.goal_dy/5,\n",
    "        info.visited_node\n",
    "    ])"
   ]
  },
  {
   "cell_type": "code",
   "execution_count": 6,
   "metadata": {},
   "outputs": [
    {
     "name": "stderr",
     "output_type": "stream",
     "text": [
      "/Development/FYP/lib/python3.10/site-packages/keras/src/layers/core/dense.py:87: UserWarning: Do not pass an `input_shape`/`input_dim` argument to a layer. When using Sequential models, prefer using an `Input(shape)` object as the first layer in the model instead.\n",
      "  super().__init__(activity_regularizer=activity_regularizer, **kwargs)\n",
      "2025-03-23 21:03:00.840951: E external/local_xla/xla/stream_executor/cuda/cuda_platform.cc:51] failed call to cuInit: INTERNAL: CUDA error: Failed call to cuInit: UNKNOWN ERROR (303)\n"
     ]
    }
   ],
   "source": [
    "tf.random.set_seed(42)  # extra code – ensures reproducibility on the CPU\n",
    "\n",
    "input_shape = [12]  # == env.observation_space.shape\n",
    "n_outputs = 4  # == env.action_space.n\n",
    "\n",
    "model = tf.keras.Sequential([\n",
    "    tf.keras.layers.Dense(32, activation=\"elu\", input_shape=input_shape),\n",
    "    tf.keras.layers.Dense(32, activation=\"elu\"),\n",
    "    tf.keras.layers.Dense(n_outputs)\n",
    "])"
   ]
  },
  {
   "cell_type": "code",
   "execution_count": 7,
   "metadata": {},
   "outputs": [],
   "source": [
    "def epsilon_greedy_policy(flat_state, epsilon):\n",
    "    valid_actions = [i for i, steps in enumerate(flat_state[:4]) if steps > 0]\n",
    "    if np.random.rand() < epsilon:\n",
    "        # Choose only from valid actions\n",
    "        return np.random.choice(valid_actions)\n",
    "    else:\n",
    "        # Model-based action selection (only among valid actions)\n",
    "        q_values = model.predict(flat_state.reshape(1, -1),  verbose=0)[0]\n",
    "        return max(valid_actions, key=lambda a: q_values[a])  # Highest Q-value among valid actions\n"
   ]
  },
  {
   "cell_type": "code",
   "execution_count": 8,
   "metadata": {},
   "outputs": [],
   "source": [
    "from collections import deque\n",
    "\n",
    "replay_buffer = deque(maxlen=2000)"
   ]
  },
  {
   "cell_type": "code",
   "execution_count": 9,
   "metadata": {},
   "outputs": [],
   "source": [
    "def sample_experiences(batch_size):\n",
    "    indices = np.random.randint(len(replay_buffer), size=batch_size)\n",
    "    batch = [replay_buffer[index] for index in indices]\n",
    "    return [\n",
    "        np.array([experience[field_index] for experience in batch])\n",
    "        for field_index in range(6)\n",
    "    ]  # [states, actions, rewards, next_states, dones, truncateds]"
   ]
  },
  {
   "cell_type": "code",
   "execution_count": 10,
   "metadata": {},
   "outputs": [],
   "source": [
    "def play_one_step(env, state, info, epsilon):\n",
    "    flat_state = action_result_to_input_vector(state, info)\n",
    "    action = epsilon_greedy_policy(flat_state, epsilon)\n",
    "    action_obj = maze_library.create_action(map_int_to_direction(action))\n",
    "    next_state, reward, done, truncated, new_info = action_result_to_tuple(env.take_action(action_obj))\n",
    "    flat_next_state = action_result_to_input_vector(next_state, new_info)\n",
    "    replay_buffer.append((flat_state, action, reward, flat_next_state, done, truncated))\n",
    "    reward = reward \n",
    "    return next_state, reward, done, truncated, info"
   ]
  },
  {
   "cell_type": "code",
   "execution_count": 11,
   "metadata": {},
   "outputs": [],
   "source": [
    "np.random.seed(42)\n",
    "tf.random.set_seed(42)\n",
    "rewards = [] \n",
    "highest_reward = -1000000"
   ]
  },
  {
   "cell_type": "code",
   "execution_count": 12,
   "metadata": {},
   "outputs": [],
   "source": [
    "batch_size = 32\n",
    "discount_factor = 0.95\n",
    "optimizer = tf.keras.optimizers.Nadam(learning_rate=1e-2)\n",
    "loss_fn = tf.keras.losses.MeanSquaredError()  # Use the class\n",
    "def training_step(batch_size):\n",
    "    experiences = sample_experiences(batch_size)\n",
    "    states, actions, rewards, next_states, dones, truncateds = experiences\n",
    "    next_Q_values = model.predict(next_states, verbose=0)\n",
    "    max_next_Q_values = next_Q_values.max(axis=1)\n",
    "    runs = 1.0 - (dones | truncateds)  # episode is not done or truncated\n",
    "    target_Q_values = rewards + runs * discount_factor * max_next_Q_values\n",
    "    target_Q_values = target_Q_values.reshape(-1, 1)\n",
    "    mask = tf.one_hot(actions, n_outputs)\n",
    "    with tf.GradientTape() as tape:\n",
    "        all_Q_values = model(states)\n",
    "        Q_values = tf.reduce_sum(all_Q_values * mask, axis=1, keepdims=True)\n",
    "        loss = tf.reduce_mean(loss_fn(target_Q_values, Q_values))\n",
    "\n",
    "    grads = tape.gradient(loss, model.trainable_variables)\n",
    "    optimizer.apply_gradients(zip(grads, model.trainable_variables))"
   ]
  },
  {
   "cell_type": "code",
   "execution_count": 13,
   "metadata": {},
   "outputs": [
    {
     "name": "stdout",
     "output_type": "stream",
     "text": [
      "{(5, 5): {South: 1, West: 1, East: 1}, (2, 0): {East: 1, South: 1, West: 1}, (4, 3): {North: 1}, (8, 3): {West: 1, South: 1}, (2, 8): {North: 1, South: 1, East: 1}, (8, 5): {North: 1, South: 1, East: 1}, (1, 4): {North: 1, East: 1}, (0, 5): {East: 1, North: 2, South: 2}, (0, 3): {South: 2, North: 2, East: 1}, (0, 9): {North: 1}, (1, 0): {East: 1}, (1, 5): {South: 2, West: 1}, (2, 7): {West: 1, South: 1, North: 1}, (7, 3): {East: 1, North: 2, West: 2}, (4, 1): {North: 1, East: 1, West: 1}, (8, 8): {West: 1, South: 1}, (6, 9): {East: 1, West: 1, North: 1}, (7, 6): {North: 1, South: 1, East: 1}, (6, 5): {South: 1, West: 1}, (6, 1): {South: 1, North: 1, East: 1}, (9, 2): {South: 2, West: 1, North: 2}, (6, 0): {South: 1, West: 1}, (1, 8): {North: 1, West: 1, South: 1}, (2, 9): {North: 1, West: 1}, (7, 0): {South: 1}, (8, 2): {East: 1}, (2, 4): {East: 1, West: 1, North: 2}, (5, 3): {East: 2, North: 1}, (2, 6): {South: 1, North: 1, East: 1}, (2, 5): {East: 1, South: 1}, (5, 0): {South: 1, East: 1}, (3, 4): {South: 1, West: 1}, (5, 1): {West: 1, North: 1}, (3, 1): {South: 1, East: 1}, (7, 1): {North: 1, East: 1, South: 2, West: 1}, (8, 6): {North: 1, West: 1}, (3, 5): {South: 1, East: 1, North: 1, West: 1}, (9, 4): {North: 2, West: 1}, (4, 9): {East: 1, North: 1}, (0, 0): {South: 1}, (1, 2): {East: 1, North: 1}, (4, 2): {South: 1, East: 1, West: 1}, (5, 7): {South: 1, East: 1, North: 1}, (1, 3): {West: 1, South: 1}, (4, 6): {North: 1, East: 1}, (6, 2): {North: 1}, (6, 6): {North: 1}, (6, 8): {North: 1, South: 1, East: 1, West: 1}, (3, 2): {South: 1, North: 1, East: 1}, (7, 5): {South: 1}, (9, 8): {North: 1}, (9, 9): {West: 1}, (3, 8): {South: 1, East: 1, West: 1}, (4, 5): {East: 1, South: 1, West: 1, North: 1}, (0, 8): {North: 1, South: 1, East: 1}, (4, 7): {South: 1}, (0, 7): {North: 2, South: 1, East: 1}, (8, 0): {South: 1}, (1, 9): {North: 1, East: 1}, (3, 9): {North: 1}, (3, 3): {North: 1}, (5, 6): {North: 1, South: 1, West: 1}, (1, 7): {West: 1, North: 2, South: 1, East: 1}, (5, 2): {West: 1, South: 1}, (4, 8): {West: 1, South: 1, North: 1}, (5, 8): {South: 1, North: 1, East: 1}, (5, 9): {East: 1, West: 1, North: 1}, (8, 9): {West: 1, East: 1, North: 1}, (8, 1): {North: 1, West: 1}, (2, 2): {West: 1, South: 2}, (3, 0): {West: 1}, (0, 1): {East: 1, North: 1, South: 2}, (9, 7): {North: 2, South: 1, West: 2}, (4, 0): {South: 1}, (7, 8): {South: 1, North: 1, East: 1, West: 1}, (3, 6): {North: 1, West: 1, South: 1}, (3, 7): {North: 1}, (9, 0): {South: 2}, (4, 4): {East: 4, South: 1}, (9, 5): {South: 2, West: 1}, (2, 1): {West: 1, North: 1}, (8, 4): {West: 4, South: 1, North: 1, East: 1}, (1, 1): {South: 1, East: 1, West: 1}, (7, 7): {North: 1, South: 1, East: 2}, (7, 9): {West: 1, East: 1, North: 1}, (6, 7): {South: 1, West: 1}}\n"
     ]
    }
   ],
   "source": [
    "maze_library.print_weighted_graph(env)"
   ]
  },
  {
   "cell_type": "code",
   "execution_count": null,
   "metadata": {},
   "outputs": [
    {
     "name": "stdout",
     "output_type": "stream",
     "text": [
      "Episode: 1, Steps: 270, eps: 1.000, reward = -208\n",
      "Episode: 2, Steps: 244, eps: 0.987, reward = -194\n",
      "Episode: 3, Steps: 279, eps: 0.973, reward = -9\n",
      "Episode: 4, Steps: 268, eps: 0.960, reward = -251\n",
      "Episode: 5, Steps: 231, eps: 0.947, reward = -82\n",
      "Episode: 6, Steps: 276, eps: 0.933, reward = -235\n",
      "Episode: 7, Steps: 243, eps: 0.920, reward = -106\n",
      "Episode: 8, Steps: 69, eps: 0.907, reward = 1228\n",
      "Episode: 9, Steps: 163, eps: 0.893, reward = 1016\n",
      "Episode: 10, Steps: 271, eps: 0.880, reward = -157\n",
      "Episode: 11, Steps: 265, eps: 0.867, reward = -332\n",
      "Episode: 12, Steps: 87, eps: 0.853, reward = 1192\n",
      "Episode: 13, Steps: 169, eps: 0.840, reward = 969\n",
      "Episode: 14, Steps: 255, eps: 0.827, reward = -212\n",
      "Episode: 15, Steps: 274, eps: 0.813, reward = -370\n",
      "Episode: 16, Steps: 15, eps: 0.800, reward = 1110\n",
      "Episode: 17, Steps: 127, eps: 0.787, reward = 1086\n",
      "Episode: 18, Steps: 199, eps: 0.773, reward = 872\n",
      "Episode: 19, Steps: 17, eps: 0.760, reward = 1114\n",
      "Episode: 20, Steps: 282, eps: 0.747, reward = -387\n",
      "Episode: 21, Steps: 11, eps: 0.733, reward = 1096\n",
      "Episode: 22, Steps: 278, eps: 0.720, reward = -420\n",
      "Episode: 23, Steps: 270, eps: 0.707, reward = -353\n",
      "Episode: 24, Steps: 97, eps: 0.693, reward = 1171\n",
      "Episode: 25, Steps: 275, eps: 0.680, reward = -263\n",
      "Episode: 26, Steps: 284, eps: 0.667, reward = -427\n",
      "Episode: 27, Steps: 279, eps: 0.653, reward = -264\n",
      "Episode: 28, Steps: 280, eps: 0.640, reward = -425\n",
      "Episode: 29, Steps: 278, eps: 0.627, reward = -443\n",
      "Episode: 30, Steps: 264, eps: 0.613, reward = -400\n",
      "Episode: 31, Steps: 35, eps: 0.600, reward = 1122\n",
      "Episode: 32, Steps: 274, eps: 0.587, reward = -334\n",
      "Episode: 33, Steps: 17, eps: 0.573, reward = 1110\n",
      "Episode: 34, Steps: 288, eps: 0.560, reward = -482\n",
      "Episode: 35, Steps: 278, eps: 0.547, reward = -426\n",
      "Episode: 36, Steps: 264, eps: 0.533, reward = -311\n",
      "Episode: 37, Steps: 231, eps: 0.520, reward = -185\n",
      "Episode: 38, Steps: 35, eps: 0.507, reward = 1130\n",
      "Episode: 39, Steps: 35, eps: 0.493, reward = 1140\n",
      "Episode: 40, Steps: 284, eps: 0.480, reward = -488\n",
      "Episode: 41, Steps: 280, eps: 0.467, reward = -405\n",
      "Episode: 42, Steps: 91, eps: 0.453, reward = 1130\n",
      "Episode: 43, Steps: 259, eps: 0.440, reward = -354\n",
      "Episode: 44, Steps: 234, eps: 0.427, reward = -295\n",
      "Episode: 45, Steps: 21, eps: 0.413, reward = 1104\n",
      "Episode: 46, Steps: 11, eps: 0.400, reward = 1096\n",
      "Episode: 47, Steps: 9, eps: 0.387, reward = 1096\n",
      "Episode: 48, Steps: 15, eps: 0.373, reward = 1108\n",
      "Episode: 49, Steps: 15, eps: 0.360, reward = 1098\n",
      "Episode: 50, Steps: 9, eps: 0.347, reward = 1096\n",
      "Episode: 51, Steps: 19, eps: 0.333, reward = 1122\n",
      "Episode: 52, Steps: 15, eps: 0.320, reward = 1098\n",
      "Episode: 53, Steps: 15, eps: 0.307, reward = 1098\n",
      "Episode: 54, Steps: 301, eps: 0.293, reward = -448\n",
      "Episode: 55, Steps: 9, eps: 0.280, reward = 1096\n",
      "Episode: 56, Steps: 13, eps: 0.267, reward = 1096\n",
      "Episode: 57, Steps: 9, eps: 0.253, reward = 1096\n",
      "Episode: 58, Steps: 9, eps: 0.240, reward = 1096\n",
      "Episode: 59, Steps: 13, eps: 0.227, reward = 1096\n",
      "Episode: 60, Steps: 9, eps: 0.213, reward = 1096\n",
      "Episode: 61, Steps: 9, eps: 0.200, reward = 1096\n",
      "Episode: 62, Steps: 11, eps: 0.187, reward = 1110\n",
      "Episode: 63, Steps: 301, eps: 0.173, reward = -483\n",
      "Episode: 64, Steps: 301, eps: 0.160, reward = -483\n",
      "Episode: 65, Steps: 27, eps: 0.147, reward = 1100\n",
      "Episode: 66, Steps: 11, eps: 0.133, reward = 1108\n",
      "Episode: 67, Steps: 301, eps: 0.120, reward = -433\n",
      "Episode: 68, Steps: 9, eps: 0.107, reward = 1096\n",
      "Episode: 69, Steps: 9, eps: 0.093, reward = 1096\n",
      "Episode: 70, Steps: 9, eps: 0.080, reward = 1096\n",
      "Episode: 71, Steps: 9, eps: 0.067, reward = 1096\n",
      "Episode: 72, Steps: 9, eps: 0.053, reward = 1096\n",
      "Episode: 73, Steps: 9, eps: 0.040, reward = 1096\n",
      "Episode: 74, Steps: 155, eps: 0.027, reward = -197\n",
      "Episode: 75, Steps: 9, eps: 0.013, reward = 1096\n",
      "Episode: 76, Steps: 9, eps: 0.010, reward = 1096\n",
      "Episode: 77, Steps: 301, eps: 0.010, reward = -499\n",
      "Episode: 78, Steps: 301, eps: 0.010, reward = -543\n",
      "Episode: 79, Steps: 301, eps: 0.010, reward = -529\n",
      "Episode: 80, Steps: 301, eps: 0.010, reward = -579\n",
      "Episode: 81, Steps: 301, eps: 0.010, reward = -549\n",
      "Episode: 82, Steps: 301, eps: 0.010, reward = -579\n",
      "Episode: 83, Steps: 301, eps: 0.010, reward = -514\n",
      "Episode: 84, Steps: 301, eps: 0.010, reward = -559\n",
      "Episode: 85, Steps: 301, eps: 0.010, reward = -507\n",
      "Episode: 86, Steps: 301, eps: 0.010, reward = -450\n",
      "Episode: 87, Steps: 301, eps: 0.010, reward = -507\n",
      "Episode: 88, Steps: 301, eps: 0.010, reward = -565\n"
     ]
    }
   ],
   "source": [
    "steps = 500\n",
    "\n",
    "for episode in range(100):\n",
    "    result = env.reset()   \n",
    "    obs, reward, done, truncated, info = action_result_to_tuple(result)\n",
    "    cumilative_reward = 0\n",
    "    for step in range(steps):\n",
    "        epsilon = max(1 - episode / 75, 0.01)\n",
    "        obs, reward, done, truncated, info = play_one_step(env, obs, info, epsilon)\n",
    "        cumilative_reward += reward\n",
    "        if done or truncated:\n",
    "            break\n",
    "\n",
    "    # Extra debug information\n",
    "    print(f\"\\rEpisode: {episode}, Steps: {step}, eps: {epsilon:.3f}, reward = {cumilative_reward}\")\n",
    "    rewards.append(cumilative_reward)\n",
    "    \n",
    "    if cumilative_reward >= highest_reward:\n",
    "        best_weights = model.get_weights()\n",
    "        highest_reward = cumilative_reward\n",
    "\n",
    "    if episode > 30:\n",
    "        training_step(batch_size)\n",
    "\n",
    "    with open(f'../mazeLogs/solve{episode}.json', 'w') as file:\n",
    "        file.write(env.to_json_python())\n",
    "\n",
    "    \n",
    "        \n",
    "model.set_weights(best_weights)  # extra code – restores the best model weights"
   ]
  },
  {
   "cell_type": "code",
   "execution_count": null,
   "metadata": {},
   "outputs": [],
   "source": [
    "# extra code – this cell generates and saves Figure 18–10\n",
    "plt.figure(figsize=(8, 4))\n",
    "plt.plot(rewards)\n",
    "plt.xlabel(\"Episode\", fontsize=14)\n",
    "plt.ylabel(\"Sum of rewards\", fontsize=14)\n",
    "plt.grid(True)\n",
    "plt.show()"
   ]
  }
 ],
 "metadata": {
  "kernelspec": {
   "display_name": "FYP",
   "language": "python",
   "name": "python3"
  },
  "language_info": {
   "codemirror_mode": {
    "name": "ipython",
    "version": 3
   },
   "file_extension": ".py",
   "mimetype": "text/x-python",
   "name": "python",
   "nbconvert_exporter": "python",
   "pygments_lexer": "ipython3",
   "version": "3.10.12"
  }
 },
 "nbformat": 4,
 "nbformat_minor": 2
}
